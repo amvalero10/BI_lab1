{
 "cells": [
  {
   "cell_type": "markdown",
   "id": "e3a57de2-4eb6-4aad-bad2-825693adb4da",
   "metadata": {},
   "source": [
    "<img src=\"./img/banner.png\">"
   ]
  },
  {
   "cell_type": "markdown",
   "id": "13153652-0395-4f6c-9b28-81c02a874653",
   "metadata": {},
   "source": [
    "# Laboratorio 1 - SaludAlpes\n",
    "\n",
    "El objetivo de este notebook ...\n",
    "\n",
    "\n",
    "Tabla de contenido:\n",
    "\n",
    "1. Carga y exploración de datos.\n",
    "\n",
    "    1.1. Importación de librerias.\n",
    "    \n",
    "    1.2. Carga de datos.\n",
    "    \n",
    "    1.3. Exploración.\n",
    "    \n",
    "2. Limpieza y preparación de los datos.\n",
    "\n",
    "    2.1. Tipo adecuado de cada atributo.\n",
    "    \n",
    "    2.2. Selección de atributos.\n",
    "    \n",
    "3. Clasificadores.\n",
    "\n",
    "    3.1.1. Arbol de decisión.\n",
    "    \n",
    "    3.1.2. Métricas de rendimiento.\n",
    "    \n",
    "    3.1.3. Interpretación del modelo.\n",
    "       \n",
    "    3.2.1. KNN.\n",
    "    \n",
    "    3.2.1. Métricas de rendimiento.\n",
    "  "
   ]
  },
  {
   "cell_type": "markdown",
   "id": "580cd9c0-9335-47f7-88c0-d99dccd3363c",
   "metadata": {},
   "source": [
    "## 1. Carga y exploración de datos."
   ]
  },
  {
   "cell_type": "markdown",
   "id": "3bd125fe-f9a1-44c7-9666-73dfa732e3d3",
   "metadata": {},
   "source": [
    "### 1.1. Importación de librerias."
   ]
  },
  {
   "cell_type": "code",
   "execution_count": 353,
   "id": "41f5a024-3197-4682-bb93-29adc8fc7ed6",
   "metadata": {},
   "outputs": [],
   "source": [
    "# Librerías para manejo de datos\n",
    "import pandas as pd\n",
    "import numpy as np\n",
    "\n",
    "# preparacion de los datos\n",
    "\n",
    "# Para crear el arbol de decisión \n",
    "from sklearn.tree import DecisionTreeClassifier \n",
    "\n",
    "# para crear KNN\n",
    "from sklearn.neighbors import KNeighborsClassifier\n",
    "\n",
    "# Para búsqueda de hiperparámetros\n",
    "from sklearn.model_selection import GridSearchCV\n",
    "\n",
    "# Para realizar la separación del conjunto de aprendizaje en entrenamiento y test.\n",
    "from sklearn.model_selection import train_test_split\n",
    "\n",
    "# Para evaluar el modelo\n",
    "from sklearn.metrics import confusion_matrix, classification_report, precision_score, recall_score, f1_score, accuracy_score, classification_report, plot_confusion_matrix\n",
    "\n",
    "#Librerías para la visualización\n",
    "import matplotlib.pyplot as plt\n",
    "# Seaborn\n",
    "import seaborn as sns \n",
    "%matplotlib inline\n",
    "from sklearn import tree\n"
   ]
  },
  {
   "cell_type": "markdown",
   "id": "e852074f-a3fd-4989-89e3-0fe2a1c83384",
   "metadata": {},
   "source": [
    "### 1.2. Carga de datos."
   ]
  },
  {
   "cell_type": "code",
   "execution_count": 288,
   "id": "2128391c-54f3-4410-b5e4-94c9602f0ebb",
   "metadata": {},
   "outputs": [],
   "source": [
    "# carga de los datos\n",
    "# csv -> dataFrame\n",
    "df_diagnostics = pd.read_csv('./datos/SaludAlpes_diagnosticos_dataset.csv', sep=';', encoding = 'utf-8' )"
   ]
  },
  {
   "cell_type": "markdown",
   "id": "b0ae7e19-726a-4dc7-be14-1080e519187a",
   "metadata": {},
   "source": [
    "### 1.3. Exploración."
   ]
  },
  {
   "cell_type": "code",
   "execution_count": 289,
   "id": "b9ec0f33-bad7-4965-a889-31d10d05e8aa",
   "metadata": {},
   "outputs": [
    {
     "data": {
      "text/plain": [
       "(768, 11)"
      ]
     },
     "execution_count": 289,
     "metadata": {},
     "output_type": "execute_result"
    }
   ],
   "source": [
    "#cantidad de datos y numero de variables\n",
    "df_diagnostics.shape"
   ]
  },
  {
   "cell_type": "code",
   "execution_count": 290,
   "id": "cd6996c3-81b9-4701-99b3-c2977e159eeb",
   "metadata": {},
   "outputs": [
    {
     "data": {
      "text/html": [
       "<div>\n",
       "<style scoped>\n",
       "    .dataframe tbody tr th:only-of-type {\n",
       "        vertical-align: middle;\n",
       "    }\n",
       "\n",
       "    .dataframe tbody tr th {\n",
       "        vertical-align: top;\n",
       "    }\n",
       "\n",
       "    .dataframe thead th {\n",
       "        text-align: right;\n",
       "    }\n",
       "</style>\n",
       "<table border=\"1\" class=\"dataframe\">\n",
       "  <thead>\n",
       "    <tr style=\"text-align: right;\">\n",
       "      <th></th>\n",
       "      <th>Hair color</th>\n",
       "      <th>Pregnancies</th>\n",
       "      <th>Glucose</th>\n",
       "      <th>City</th>\n",
       "      <th>BloodPressure</th>\n",
       "      <th>SkinThickness</th>\n",
       "      <th>Insulin</th>\n",
       "      <th>BMI</th>\n",
       "      <th>DiabetesPedigreeFunction</th>\n",
       "      <th>Age</th>\n",
       "      <th>Outcome</th>\n",
       "    </tr>\n",
       "  </thead>\n",
       "  <tbody>\n",
       "    <tr>\n",
       "      <th>0</th>\n",
       "      <td>Red</td>\n",
       "      <td>6</td>\n",
       "      <td>148</td>\n",
       "      <td>New York</td>\n",
       "      <td>72</td>\n",
       "      <td>35</td>\n",
       "      <td>0</td>\n",
       "      <td>336</td>\n",
       "      <td>627</td>\n",
       "      <td>50</td>\n",
       "      <td>1</td>\n",
       "    </tr>\n",
       "    <tr>\n",
       "      <th>1</th>\n",
       "      <td>Black</td>\n",
       "      <td>1</td>\n",
       "      <td>85</td>\n",
       "      <td>New York</td>\n",
       "      <td>66</td>\n",
       "      <td>29</td>\n",
       "      <td>0</td>\n",
       "      <td>266</td>\n",
       "      <td>351</td>\n",
       "      <td>31</td>\n",
       "      <td>0</td>\n",
       "    </tr>\n",
       "    <tr>\n",
       "      <th>2</th>\n",
       "      <td>Red</td>\n",
       "      <td>8</td>\n",
       "      <td>183</td>\n",
       "      <td>New York</td>\n",
       "      <td>64</td>\n",
       "      <td>0</td>\n",
       "      <td>0</td>\n",
       "      <td>233</td>\n",
       "      <td>672</td>\n",
       "      <td>32</td>\n",
       "      <td>1</td>\n",
       "    </tr>\n",
       "    <tr>\n",
       "      <th>3</th>\n",
       "      <td>Black</td>\n",
       "      <td>1</td>\n",
       "      <td>89</td>\n",
       "      <td>New York</td>\n",
       "      <td>66</td>\n",
       "      <td>23</td>\n",
       "      <td>94</td>\n",
       "      <td>281</td>\n",
       "      <td>167</td>\n",
       "      <td>21</td>\n",
       "      <td>0</td>\n",
       "    </tr>\n",
       "    <tr>\n",
       "      <th>4</th>\n",
       "      <td>Black</td>\n",
       "      <td>0</td>\n",
       "      <td>137</td>\n",
       "      <td>New York</td>\n",
       "      <td>40</td>\n",
       "      <td>35</td>\n",
       "      <td>168</td>\n",
       "      <td>431</td>\n",
       "      <td>2288</td>\n",
       "      <td>33</td>\n",
       "      <td>1</td>\n",
       "    </tr>\n",
       "  </tbody>\n",
       "</table>\n",
       "</div>"
      ],
      "text/plain": [
       "  Hair color Pregnancies Glucose      City BloodPressure SkinThickness  \\\n",
       "0        Red           6     148  New York            72            35   \n",
       "1      Black           1      85  New York            66            29   \n",
       "2        Red           8     183  New York            64             0   \n",
       "3      Black           1      89  New York            66            23   \n",
       "4      Black           0     137  New York            40            35   \n",
       "\n",
       "  Insulin  BMI DiabetesPedigreeFunction  Age Outcome  \n",
       "0       0  336                      627   50       1  \n",
       "1       0  266                      351   31       0  \n",
       "2       0  233                      672   32       1  \n",
       "3      94  281                      167   21       0  \n",
       "4     168  431                     2288   33       1  "
      ]
     },
     "execution_count": 290,
     "metadata": {},
     "output_type": "execute_result"
    }
   ],
   "source": [
    "# mostrar las primeras 5 filas\n",
    "df_diagnostics.head(5)"
   ]
  },
  {
   "cell_type": "code",
   "execution_count": 291,
   "id": "740c070b-4bff-4adb-af50-853a83821405",
   "metadata": {},
   "outputs": [
    {
     "data": {
      "text/plain": [
       "Hair color                  object\n",
       "Pregnancies                 object\n",
       "Glucose                     object\n",
       "City                        object\n",
       "BloodPressure               object\n",
       "SkinThickness               object\n",
       "Insulin                     object\n",
       "BMI                          int64\n",
       "DiabetesPedigreeFunction    object\n",
       "Age                          int64\n",
       "Outcome                     object\n",
       "dtype: object"
      ]
     },
     "execution_count": 291,
     "metadata": {},
     "output_type": "execute_result"
    }
   ],
   "source": [
    "# ver todos los tipos de variables \n",
    "df_diagnostics.dtypes"
   ]
  },
  {
   "cell_type": "code",
   "execution_count": 292,
   "id": "9d0bf6ce-67ae-4264-a7bb-f33b409f2238",
   "metadata": {},
   "outputs": [
    {
     "data": {
      "text/html": [
       "<div>\n",
       "<style scoped>\n",
       "    .dataframe tbody tr th:only-of-type {\n",
       "        vertical-align: middle;\n",
       "    }\n",
       "\n",
       "    .dataframe tbody tr th {\n",
       "        vertical-align: top;\n",
       "    }\n",
       "\n",
       "    .dataframe thead th {\n",
       "        text-align: right;\n",
       "    }\n",
       "</style>\n",
       "<table border=\"1\" class=\"dataframe\">\n",
       "  <thead>\n",
       "    <tr style=\"text-align: right;\">\n",
       "      <th></th>\n",
       "      <th>BMI</th>\n",
       "      <th>Age</th>\n",
       "    </tr>\n",
       "  </thead>\n",
       "  <tbody>\n",
       "    <tr>\n",
       "      <th>count</th>\n",
       "      <td>768.000000</td>\n",
       "      <td>768.000000</td>\n",
       "    </tr>\n",
       "    <tr>\n",
       "      <th>mean</th>\n",
       "      <td>289.796875</td>\n",
       "      <td>38.011719</td>\n",
       "    </tr>\n",
       "    <tr>\n",
       "      <th>std</th>\n",
       "      <td>116.757554</td>\n",
       "      <td>117.825600</td>\n",
       "    </tr>\n",
       "    <tr>\n",
       "      <th>min</th>\n",
       "      <td>0.000000</td>\n",
       "      <td>21.000000</td>\n",
       "    </tr>\n",
       "    <tr>\n",
       "      <th>25%</th>\n",
       "      <td>251.750000</td>\n",
       "      <td>24.000000</td>\n",
       "    </tr>\n",
       "    <tr>\n",
       "      <th>50%</th>\n",
       "      <td>309.000000</td>\n",
       "      <td>29.000000</td>\n",
       "    </tr>\n",
       "    <tr>\n",
       "      <th>75%</th>\n",
       "      <td>359.000000</td>\n",
       "      <td>41.000000</td>\n",
       "    </tr>\n",
       "    <tr>\n",
       "      <th>max</th>\n",
       "      <td>671.000000</td>\n",
       "      <td>3256.000000</td>\n",
       "    </tr>\n",
       "  </tbody>\n",
       "</table>\n",
       "</div>"
      ],
      "text/plain": [
       "              BMI          Age\n",
       "count  768.000000   768.000000\n",
       "mean   289.796875    38.011719\n",
       "std    116.757554   117.825600\n",
       "min      0.000000    21.000000\n",
       "25%    251.750000    24.000000\n",
       "50%    309.000000    29.000000\n",
       "75%    359.000000    41.000000\n",
       "max    671.000000  3256.000000"
      ]
     },
     "execution_count": 292,
     "metadata": {},
     "output_type": "execute_result"
    }
   ],
   "source": [
    "# descripcion de cada atributo de los datos reconocidos como int64(Enteros)\n",
    "df_diagnostics.describe()"
   ]
  },
  {
   "cell_type": "code",
   "execution_count": 293,
   "id": "292d005e-5d13-4422-a487-8b9610d4ce5d",
   "metadata": {},
   "outputs": [
    {
     "data": {
      "text/plain": [
       "Hair color                  0\n",
       "Pregnancies                 0\n",
       "Glucose                     0\n",
       "City                        0\n",
       "BloodPressure               0\n",
       "SkinThickness               0\n",
       "Insulin                     0\n",
       "BMI                         0\n",
       "DiabetesPedigreeFunction    0\n",
       "Age                         0\n",
       "Outcome                     0\n",
       "dtype: int64"
      ]
     },
     "execution_count": 293,
     "metadata": {},
     "output_type": "execute_result"
    }
   ],
   "source": [
    "# ausencia y cantidad de datos faltantes de las columnas.\n",
    "df_diagnostics.isnull().sum()"
   ]
  },
  {
   "cell_type": "markdown",
   "id": "67b517ad-031a-4662-b144-9f1c3e9d0eeb",
   "metadata": {},
   "source": [
    "No existen datos faltantes."
   ]
  },
  {
   "cell_type": "markdown",
   "id": "2c2e4fd7-1d52-4528-92d9-f512f9a7c248",
   "metadata": {},
   "source": [
    "## 2. Limpieza y preparación de los datos."
   ]
  },
  {
   "cell_type": "markdown",
   "id": "e7a63750-ca80-422f-9602-d59e510e3556",
   "metadata": {},
   "source": [
    "### 2.1. Tipo adecuado de cada atributo."
   ]
  },
  {
   "cell_type": "markdown",
   "id": "7720593d-1d9e-45ca-8a55-f71025de07ab",
   "metadata": {},
   "source": [
    "Primero realizaremos el cambio de tipo de cada columna, acorde con el tipo de datos que maneja."
   ]
  },
  {
   "cell_type": "code",
   "execution_count": 294,
   "id": "d1cc283c-e27d-4228-aaf4-6c874c017305",
   "metadata": {},
   "outputs": [
    {
     "data": {
      "text/html": [
       "<div>\n",
       "<style scoped>\n",
       "    .dataframe tbody tr th:only-of-type {\n",
       "        vertical-align: middle;\n",
       "    }\n",
       "\n",
       "    .dataframe tbody tr th {\n",
       "        vertical-align: top;\n",
       "    }\n",
       "\n",
       "    .dataframe thead th {\n",
       "        text-align: right;\n",
       "    }\n",
       "</style>\n",
       "<table border=\"1\" class=\"dataframe\">\n",
       "  <thead>\n",
       "    <tr style=\"text-align: right;\">\n",
       "      <th></th>\n",
       "      <th>Hair color</th>\n",
       "      <th>Pregnancies</th>\n",
       "      <th>Glucose</th>\n",
       "      <th>City</th>\n",
       "      <th>BloodPressure</th>\n",
       "      <th>SkinThickness</th>\n",
       "      <th>Insulin</th>\n",
       "      <th>BMI</th>\n",
       "      <th>DiabetesPedigreeFunction</th>\n",
       "      <th>Age</th>\n",
       "      <th>Outcome</th>\n",
       "    </tr>\n",
       "  </thead>\n",
       "  <tbody>\n",
       "    <tr>\n",
       "      <th>0</th>\n",
       "      <td>Red</td>\n",
       "      <td>6</td>\n",
       "      <td>148</td>\n",
       "      <td>New York</td>\n",
       "      <td>72</td>\n",
       "      <td>35</td>\n",
       "      <td>0</td>\n",
       "      <td>336</td>\n",
       "      <td>627</td>\n",
       "      <td>50</td>\n",
       "      <td>1</td>\n",
       "    </tr>\n",
       "    <tr>\n",
       "      <th>1</th>\n",
       "      <td>Black</td>\n",
       "      <td>1</td>\n",
       "      <td>85</td>\n",
       "      <td>New York</td>\n",
       "      <td>66</td>\n",
       "      <td>29</td>\n",
       "      <td>0</td>\n",
       "      <td>266</td>\n",
       "      <td>351</td>\n",
       "      <td>31</td>\n",
       "      <td>0</td>\n",
       "    </tr>\n",
       "    <tr>\n",
       "      <th>2</th>\n",
       "      <td>Red</td>\n",
       "      <td>8</td>\n",
       "      <td>183</td>\n",
       "      <td>New York</td>\n",
       "      <td>64</td>\n",
       "      <td>0</td>\n",
       "      <td>0</td>\n",
       "      <td>233</td>\n",
       "      <td>672</td>\n",
       "      <td>32</td>\n",
       "      <td>1</td>\n",
       "    </tr>\n",
       "    <tr>\n",
       "      <th>3</th>\n",
       "      <td>Black</td>\n",
       "      <td>1</td>\n",
       "      <td>89</td>\n",
       "      <td>New York</td>\n",
       "      <td>66</td>\n",
       "      <td>23</td>\n",
       "      <td>94</td>\n",
       "      <td>281</td>\n",
       "      <td>167</td>\n",
       "      <td>21</td>\n",
       "      <td>0</td>\n",
       "    </tr>\n",
       "    <tr>\n",
       "      <th>4</th>\n",
       "      <td>Black</td>\n",
       "      <td>0</td>\n",
       "      <td>137</td>\n",
       "      <td>New York</td>\n",
       "      <td>40</td>\n",
       "      <td>35</td>\n",
       "      <td>168</td>\n",
       "      <td>431</td>\n",
       "      <td>2288</td>\n",
       "      <td>33</td>\n",
       "      <td>1</td>\n",
       "    </tr>\n",
       "  </tbody>\n",
       "</table>\n",
       "</div>"
      ],
      "text/plain": [
       "  Hair color Pregnancies Glucose      City BloodPressure SkinThickness  \\\n",
       "0        Red           6     148  New York            72            35   \n",
       "1      Black           1      85  New York            66            29   \n",
       "2        Red           8     183  New York            64             0   \n",
       "3      Black           1      89  New York            66            23   \n",
       "4      Black           0     137  New York            40            35   \n",
       "\n",
       "  Insulin  BMI DiabetesPedigreeFunction  Age Outcome  \n",
       "0       0  336                      627   50       1  \n",
       "1       0  266                      351   31       0  \n",
       "2       0  233                      672   32       1  \n",
       "3      94  281                      167   21       0  \n",
       "4     168  431                     2288   33       1  "
      ]
     },
     "execution_count": 294,
     "metadata": {},
     "output_type": "execute_result"
    }
   ],
   "source": [
    "# mostrar las primeras 5 filas\n",
    "df_diagnostics.head(5)"
   ]
  },
  {
   "cell_type": "code",
   "execution_count": 295,
   "id": "f7a37f77-c410-4967-8fe9-de977324482c",
   "metadata": {},
   "outputs": [
    {
     "data": {
      "text/plain": [
       "Hair color                  object\n",
       "Pregnancies                 object\n",
       "Glucose                     object\n",
       "City                        object\n",
       "BloodPressure               object\n",
       "SkinThickness               object\n",
       "Insulin                     object\n",
       "BMI                          int64\n",
       "DiabetesPedigreeFunction    object\n",
       "Age                          int64\n",
       "Outcome                     object\n",
       "dtype: object"
      ]
     },
     "execution_count": 295,
     "metadata": {},
     "output_type": "execute_result"
    }
   ],
   "source": [
    "# ver todos los tipos de variables \n",
    "df_diagnostics.dtypes"
   ]
  },
  {
   "cell_type": "markdown",
   "id": "9f22f4d5-dd23-46f6-8cef-8d93d55aed74",
   "metadata": {},
   "source": [
    "Como podemos observar las columnas de '**Pregnancies**', '**Glucose**', '**BloodPressure**', '**SkinThickness**', '**Insulin**' , '**DiabetesPedigreeFunction**' y **'Outcome'** son de tipo entero, sin embargo pandas las a reconocido como object."
   ]
  },
  {
   "cell_type": "code",
   "execution_count": 296,
   "id": "31ff27f5-b43c-45e0-88fe-25460a6c2646",
   "metadata": {},
   "outputs": [],
   "source": [
    "# se realiza la limpieza y la preparacion sobre otro df(dataFrame)\n",
    "df_diagnostics_t = df_diagnostics"
   ]
  },
  {
   "cell_type": "markdown",
   "id": "0abdda1d-bb6c-4c0c-9072-8bc1f6699106",
   "metadata": {},
   "source": [
    "Al intentar cambiar el tipo de cada columna a entero, nos arroja un error: ` ValueError: invalid literal for int() with base 10: '-' `\n",
    "Esto es debido a que existen datos o caracteres que no corresponden en la columna a cambiar, en este caso existe el caracter '-' el cual no nos permite cambiar el tipo de la columna"
   ]
  },
  {
   "cell_type": "code",
   "execution_count": 297,
   "id": "32b31d5f-4517-4b90-9d3b-8775f77b6164",
   "metadata": {},
   "outputs": [
    {
     "name": "stdout",
     "output_type": "stream",
     "text": [
      "    Hair color Pregnancies Glucose City BloodPressure SkinThickness Insulin  \\\n",
      "583      Black           -       -    -             -             -       -   \n",
      "\n",
      "     BMI DiabetesPedigreeFunction  Age Outcome  \n",
      "583  387                        -   42       -  \n"
     ]
    }
   ],
   "source": [
    "# buscamos la fila con el caracter anomalo '-'\n",
    "raro = df_diagnostics_t[df_diagnostics_t['Pregnancies'].str.contains('-')]\n",
    "print(raro)"
   ]
  },
  {
   "cell_type": "markdown",
   "id": "99c3c9c8-3818-468b-9fbc-fa143fb9635a",
   "metadata": {},
   "source": [
    "Como podemos observar la fila 583 contiene varias columnas con este valor, lo cual no aporta informacion relevante para los modelos de ML y sera eliminada"
   ]
  },
  {
   "cell_type": "code",
   "execution_count": 298,
   "id": "ec1d2085-e85f-4deb-89be-ff6c9058598a",
   "metadata": {},
   "outputs": [],
   "source": [
    "# eliminamos la fila que contiene '-' en la columna Pregnancies\n",
    "df_diagnostics_t = df_diagnostics_t.drop(df_diagnostics_t[df_diagnostics_t.Pregnancies.str.contains('-')].index)"
   ]
  },
  {
   "cell_type": "markdown",
   "id": "c350e850-9be6-4be9-9aed-b30455977d2f",
   "metadata": {},
   "source": [
    "Ahora convertimos cada columna en su correspondiente tipo de datos"
   ]
  },
  {
   "cell_type": "code",
   "execution_count": 299,
   "id": "827a95de-9e82-47d4-a8c1-de73d72fd79d",
   "metadata": {},
   "outputs": [],
   "source": [
    "#cambiamos el tipo de datos de cada columna a su correspondiente tipo\n",
    "df_diagnostics_t['Pregnancies'] = df_diagnostics_t.Pregnancies.astype(int)\n",
    "df_diagnostics_t['Glucose'] = df_diagnostics_t.Glucose.astype(int)\n",
    "df_diagnostics_t['BloodPressure'] = df_diagnostics_t.BloodPressure.astype(int)\n",
    "df_diagnostics_t['SkinThickness'] = df_diagnostics_t.SkinThickness.astype(int)\n",
    "df_diagnostics_t['Insulin'] = df_diagnostics_t.Insulin.astype(int)\n",
    "df_diagnostics_t['DiabetesPedigreeFunction'] = df_diagnostics_t.DiabetesPedigreeFunction.astype(int)\n",
    "df_diagnostics_t['Outcome'] = df_diagnostics_t.Outcome.astype(int)"
   ]
  },
  {
   "cell_type": "markdown",
   "id": "efcb7077-8374-406f-9c47-2a6ebfa0c729",
   "metadata": {},
   "source": [
    "Comprobamos que las columnas correspondan con su tipo. "
   ]
  },
  {
   "cell_type": "code",
   "execution_count": 300,
   "id": "ed5be45b-3c31-475d-a3f8-20b4722cf108",
   "metadata": {},
   "outputs": [
    {
     "data": {
      "text/plain": [
       "Hair color                  object\n",
       "Pregnancies                  int64\n",
       "Glucose                      int64\n",
       "City                        object\n",
       "BloodPressure                int64\n",
       "SkinThickness                int64\n",
       "Insulin                      int64\n",
       "BMI                          int64\n",
       "DiabetesPedigreeFunction     int64\n",
       "Age                          int64\n",
       "Outcome                      int64\n",
       "dtype: object"
      ]
     },
     "execution_count": 300,
     "metadata": {},
     "output_type": "execute_result"
    }
   ],
   "source": [
    "df_diagnostics_t.dtypes"
   ]
  },
  {
   "cell_type": "markdown",
   "id": "68766ea5-ddbc-461d-808f-0761db19113e",
   "metadata": {},
   "source": [
    "### 2.2. Selección de atributos."
   ]
  },
  {
   "cell_type": "markdown",
   "id": "07e7f969-3b6b-4d03-8d4f-b3723ba4a30f",
   "metadata": {},
   "source": [
    "En este punto deseamos conocer cuales son las columnas más importantes para nuestro modelo, aquellas que aporten valor y sirvan para crear modelos más precisos y exactos.\n",
    "Para este punto necesitamos conocimiento sobre cada atributo y como este podria impactar en la prediccion del modelo."
   ]
  },
  {
   "cell_type": "markdown",
   "id": "8d02f8fb-3b20-4a40-9de9-dfbb9f136ae7",
   "metadata": {},
   "source": [
    "Primero convertiremos los datos categoricos en datos numericos para conocer si realizan algún aporte significativo en el diagnóstico de diabetes."
   ]
  },
  {
   "cell_type": "markdown",
   "id": "b91f6908-33a0-413e-958f-ece0a3957df0",
   "metadata": {},
   "source": [
    "En este caso las columnas de  **Hair color** y **City** son categoricos. "
   ]
  },
  {
   "cell_type": "code",
   "execution_count": 301,
   "id": "b91c591d-7260-479b-937f-38212ebd0c66",
   "metadata": {},
   "outputs": [
    {
     "data": {
      "text/plain": [
       "Black    685\n",
       "Red       50\n",
       "Blue      32\n",
       "Name: Hair color, dtype: int64"
      ]
     },
     "execution_count": 301,
     "metadata": {},
     "output_type": "execute_result"
    }
   ],
   "source": [
    "# valores de la variable categorica\n",
    "df_diagnostics_t['Hair color'].value_counts()"
   ]
  },
  {
   "cell_type": "code",
   "execution_count": 302,
   "id": "98c49ac5-f2c0-465f-bf3a-a24a166c438c",
   "metadata": {},
   "outputs": [
    {
     "data": {
      "text/plain": [
       "New York    767\n",
       "Name: City, dtype: int64"
      ]
     },
     "execution_count": 302,
     "metadata": {},
     "output_type": "execute_result"
    }
   ],
   "source": [
    "# valores de la variable categorica\n",
    "df_diagnostics_t['City'].value_counts()"
   ]
  },
  {
   "cell_type": "code",
   "execution_count": 303,
   "id": "0ce50912-c3dd-413f-afa4-af75cf449b92",
   "metadata": {},
   "outputs": [
    {
     "data": {
      "text/html": [
       "<div>\n",
       "<style scoped>\n",
       "    .dataframe tbody tr th:only-of-type {\n",
       "        vertical-align: middle;\n",
       "    }\n",
       "\n",
       "    .dataframe tbody tr th {\n",
       "        vertical-align: top;\n",
       "    }\n",
       "\n",
       "    .dataframe thead th {\n",
       "        text-align: right;\n",
       "    }\n",
       "</style>\n",
       "<table border=\"1\" class=\"dataframe\">\n",
       "  <thead>\n",
       "    <tr style=\"text-align: right;\">\n",
       "      <th></th>\n",
       "      <th>Hair color</th>\n",
       "      <th>Pregnancies</th>\n",
       "      <th>Glucose</th>\n",
       "      <th>City</th>\n",
       "      <th>BloodPressure</th>\n",
       "      <th>SkinThickness</th>\n",
       "      <th>Insulin</th>\n",
       "      <th>BMI</th>\n",
       "      <th>DiabetesPedigreeFunction</th>\n",
       "      <th>Age</th>\n",
       "      <th>Outcome</th>\n",
       "    </tr>\n",
       "  </thead>\n",
       "  <tbody>\n",
       "    <tr>\n",
       "      <th>0</th>\n",
       "      <td>1</td>\n",
       "      <td>6</td>\n",
       "      <td>148</td>\n",
       "      <td>0</td>\n",
       "      <td>72</td>\n",
       "      <td>35</td>\n",
       "      <td>0</td>\n",
       "      <td>336</td>\n",
       "      <td>627</td>\n",
       "      <td>50</td>\n",
       "      <td>1</td>\n",
       "    </tr>\n",
       "    <tr>\n",
       "      <th>1</th>\n",
       "      <td>0</td>\n",
       "      <td>1</td>\n",
       "      <td>85</td>\n",
       "      <td>0</td>\n",
       "      <td>66</td>\n",
       "      <td>29</td>\n",
       "      <td>0</td>\n",
       "      <td>266</td>\n",
       "      <td>351</td>\n",
       "      <td>31</td>\n",
       "      <td>0</td>\n",
       "    </tr>\n",
       "    <tr>\n",
       "      <th>2</th>\n",
       "      <td>1</td>\n",
       "      <td>8</td>\n",
       "      <td>183</td>\n",
       "      <td>0</td>\n",
       "      <td>64</td>\n",
       "      <td>0</td>\n",
       "      <td>0</td>\n",
       "      <td>233</td>\n",
       "      <td>672</td>\n",
       "      <td>32</td>\n",
       "      <td>1</td>\n",
       "    </tr>\n",
       "  </tbody>\n",
       "</table>\n",
       "</div>"
      ],
      "text/plain": [
       "   Hair color  Pregnancies  Glucose  City  BloodPressure  SkinThickness  \\\n",
       "0           1            6      148     0             72             35   \n",
       "1           0            1       85     0             66             29   \n",
       "2           1            8      183     0             64              0   \n",
       "\n",
       "   Insulin  BMI  DiabetesPedigreeFunction  Age  Outcome  \n",
       "0        0  336                       627   50        1  \n",
       "1        0  266                       351   31        0  \n",
       "2        0  233                       672   32        1  "
      ]
     },
     "execution_count": 303,
     "metadata": {},
     "output_type": "execute_result"
    }
   ],
   "source": [
    "# convertiremos los datos categoricos en enteros para poder manejarlos mejor\n",
    "\n",
    "#mapping para la columna de Hair color\n",
    "cat_mapping_hair = {'Black':0,'Red':1,'Blue':2}\n",
    "# map sobre la columna de Hair color\n",
    "df_diagnostics_t['Hair color'] = df_diagnostics_t['Hair color'].map(cat_mapping_hair)\n",
    "\n",
    "#mapping para la columna de City\n",
    "cat_mapping_city = {'New York':0}\n",
    "df_diagnostics_t['City'] = df_diagnostics_t['City'].map(cat_mapping_city)\n",
    "\n",
    "#comprobamos\n",
    "df_diagnostics_t.head(3)\n"
   ]
  },
  {
   "cell_type": "code",
   "execution_count": 304,
   "id": "ec99fa05-b81f-44e7-a8d4-e932338279ee",
   "metadata": {},
   "outputs": [
    {
     "data": {
      "text/html": [
       "<div>\n",
       "<style scoped>\n",
       "    .dataframe tbody tr th:only-of-type {\n",
       "        vertical-align: middle;\n",
       "    }\n",
       "\n",
       "    .dataframe tbody tr th {\n",
       "        vertical-align: top;\n",
       "    }\n",
       "\n",
       "    .dataframe thead th {\n",
       "        text-align: right;\n",
       "    }\n",
       "</style>\n",
       "<table border=\"1\" class=\"dataframe\">\n",
       "  <thead>\n",
       "    <tr style=\"text-align: right;\">\n",
       "      <th></th>\n",
       "      <th>Hair color</th>\n",
       "      <th>Pregnancies</th>\n",
       "      <th>Glucose</th>\n",
       "      <th>City</th>\n",
       "      <th>BloodPressure</th>\n",
       "      <th>SkinThickness</th>\n",
       "      <th>Insulin</th>\n",
       "      <th>BMI</th>\n",
       "      <th>DiabetesPedigreeFunction</th>\n",
       "      <th>Age</th>\n",
       "      <th>Outcome</th>\n",
       "    </tr>\n",
       "  </thead>\n",
       "  <tbody>\n",
       "    <tr>\n",
       "      <th>count</th>\n",
       "      <td>767.000000</td>\n",
       "      <td>767.000000</td>\n",
       "      <td>767.000000</td>\n",
       "      <td>767.0</td>\n",
       "      <td>767.000000</td>\n",
       "      <td>767.000000</td>\n",
       "      <td>767.000000</td>\n",
       "      <td>767.000000</td>\n",
       "      <td>767.000000</td>\n",
       "      <td>767.000000</td>\n",
       "      <td>767.000000</td>\n",
       "    </tr>\n",
       "    <tr>\n",
       "      <th>mean</th>\n",
       "      <td>0.148631</td>\n",
       "      <td>3.839635</td>\n",
       "      <td>120.921773</td>\n",
       "      <td>0.0</td>\n",
       "      <td>69.096480</td>\n",
       "      <td>20.563233</td>\n",
       "      <td>79.903520</td>\n",
       "      <td>289.670143</td>\n",
       "      <td>432.395046</td>\n",
       "      <td>38.006519</td>\n",
       "      <td>0.349413</td>\n",
       "    </tr>\n",
       "    <tr>\n",
       "      <th>std</th>\n",
       "      <td>0.458537</td>\n",
       "      <td>3.368429</td>\n",
       "      <td>31.984561</td>\n",
       "      <td>0.0</td>\n",
       "      <td>19.366833</td>\n",
       "      <td>15.945349</td>\n",
       "      <td>115.283105</td>\n",
       "      <td>116.780873</td>\n",
       "      <td>336.144934</td>\n",
       "      <td>117.902397</td>\n",
       "      <td>0.477096</td>\n",
       "    </tr>\n",
       "    <tr>\n",
       "      <th>min</th>\n",
       "      <td>0.000000</td>\n",
       "      <td>0.000000</td>\n",
       "      <td>0.000000</td>\n",
       "      <td>0.0</td>\n",
       "      <td>0.000000</td>\n",
       "      <td>0.000000</td>\n",
       "      <td>0.000000</td>\n",
       "      <td>0.000000</td>\n",
       "      <td>1.000000</td>\n",
       "      <td>21.000000</td>\n",
       "      <td>0.000000</td>\n",
       "    </tr>\n",
       "    <tr>\n",
       "      <th>25%</th>\n",
       "      <td>0.000000</td>\n",
       "      <td>1.000000</td>\n",
       "      <td>99.000000</td>\n",
       "      <td>0.0</td>\n",
       "      <td>62.000000</td>\n",
       "      <td>0.000000</td>\n",
       "      <td>0.000000</td>\n",
       "      <td>251.500000</td>\n",
       "      <td>205.500000</td>\n",
       "      <td>24.000000</td>\n",
       "      <td>0.000000</td>\n",
       "    </tr>\n",
       "    <tr>\n",
       "      <th>50%</th>\n",
       "      <td>0.000000</td>\n",
       "      <td>3.000000</td>\n",
       "      <td>117.000000</td>\n",
       "      <td>0.0</td>\n",
       "      <td>72.000000</td>\n",
       "      <td>23.000000</td>\n",
       "      <td>32.000000</td>\n",
       "      <td>309.000000</td>\n",
       "      <td>337.000000</td>\n",
       "      <td>29.000000</td>\n",
       "      <td>0.000000</td>\n",
       "    </tr>\n",
       "    <tr>\n",
       "      <th>75%</th>\n",
       "      <td>0.000000</td>\n",
       "      <td>6.000000</td>\n",
       "      <td>140.500000</td>\n",
       "      <td>0.0</td>\n",
       "      <td>80.000000</td>\n",
       "      <td>32.000000</td>\n",
       "      <td>127.500000</td>\n",
       "      <td>359.000000</td>\n",
       "      <td>592.000000</td>\n",
       "      <td>41.000000</td>\n",
       "      <td>1.000000</td>\n",
       "    </tr>\n",
       "    <tr>\n",
       "      <th>max</th>\n",
       "      <td>2.000000</td>\n",
       "      <td>17.000000</td>\n",
       "      <td>199.000000</td>\n",
       "      <td>0.0</td>\n",
       "      <td>122.000000</td>\n",
       "      <td>99.000000</td>\n",
       "      <td>846.000000</td>\n",
       "      <td>671.000000</td>\n",
       "      <td>2329.000000</td>\n",
       "      <td>3256.000000</td>\n",
       "      <td>1.000000</td>\n",
       "    </tr>\n",
       "  </tbody>\n",
       "</table>\n",
       "</div>"
      ],
      "text/plain": [
       "       Hair color  Pregnancies     Glucose   City  BloodPressure  \\\n",
       "count  767.000000   767.000000  767.000000  767.0     767.000000   \n",
       "mean     0.148631     3.839635  120.921773    0.0      69.096480   \n",
       "std      0.458537     3.368429   31.984561    0.0      19.366833   \n",
       "min      0.000000     0.000000    0.000000    0.0       0.000000   \n",
       "25%      0.000000     1.000000   99.000000    0.0      62.000000   \n",
       "50%      0.000000     3.000000  117.000000    0.0      72.000000   \n",
       "75%      0.000000     6.000000  140.500000    0.0      80.000000   \n",
       "max      2.000000    17.000000  199.000000    0.0     122.000000   \n",
       "\n",
       "       SkinThickness     Insulin         BMI  DiabetesPedigreeFunction  \\\n",
       "count     767.000000  767.000000  767.000000                767.000000   \n",
       "mean       20.563233   79.903520  289.670143                432.395046   \n",
       "std        15.945349  115.283105  116.780873                336.144934   \n",
       "min         0.000000    0.000000    0.000000                  1.000000   \n",
       "25%         0.000000    0.000000  251.500000                205.500000   \n",
       "50%        23.000000   32.000000  309.000000                337.000000   \n",
       "75%        32.000000  127.500000  359.000000                592.000000   \n",
       "max        99.000000  846.000000  671.000000               2329.000000   \n",
       "\n",
       "               Age     Outcome  \n",
       "count   767.000000  767.000000  \n",
       "mean     38.006519    0.349413  \n",
       "std     117.902397    0.477096  \n",
       "min      21.000000    0.000000  \n",
       "25%      24.000000    0.000000  \n",
       "50%      29.000000    0.000000  \n",
       "75%      41.000000    1.000000  \n",
       "max    3256.000000    1.000000  "
      ]
     },
     "execution_count": 304,
     "metadata": {},
     "output_type": "execute_result"
    }
   ],
   "source": [
    "#resumen de los datos\n",
    "df_diagnostics_t.describe()"
   ]
  },
  {
   "cell_type": "markdown",
   "id": "78fcc35a-0975-436e-826d-81bddfc00a37",
   "metadata": {},
   "source": [
    "Podemos observar que el atributo de **City** solo tiene el valor de cero para toda la columna. En este caso **City** no realizará ningun aporte para los modelos de ML. Entonces Procedemos a elminar esta columna."
   ]
  },
  {
   "cell_type": "code",
   "execution_count": 305,
   "id": "159486ae-d3c1-4cc2-b3b3-12470e7449ce",
   "metadata": {},
   "outputs": [],
   "source": [
    "#Eliminamos la columna City\n",
    "del df_diagnostics_t['City']"
   ]
  },
  {
   "cell_type": "raw",
   "id": "38eba9e9-a784-4e0f-84f6-379ed0cfdbe4",
   "metadata": {},
   "source": [
    "Ahora. El diccionario nos indica que la presion arterial debe contener valores mayores a 0, entonces comprobamos si cumple con esta condición."
   ]
  },
  {
   "cell_type": "code",
   "execution_count": 306,
   "id": "c91e7954-2929-4160-9f97-e25c7d1ff456",
   "metadata": {},
   "outputs": [
    {
     "data": {
      "text/plain": [
       "<bound method Series.count of 0      72\n",
       "1      66\n",
       "2      64\n",
       "3      66\n",
       "4      40\n",
       "       ..\n",
       "763    76\n",
       "764    70\n",
       "765    72\n",
       "766    60\n",
       "767    70\n",
       "Name: BloodPressure, Length: 767, dtype: int64>"
      ]
     },
     "execution_count": 306,
     "metadata": {},
     "output_type": "execute_result"
    }
   ],
   "source": [
    "df_diagnostics_t.BloodPressure.count"
   ]
  },
  {
   "cell_type": "markdown",
   "id": "8d7d871a-e56e-4e65-bfc3-fc88ffb159fb",
   "metadata": {},
   "source": [
    "podemos observar que existen 72 filas que no cumplen con esta condición, por tal motivo, determinamos cambiar los valores de 0 con la media de la columna para no perder información valiosa. Tambien se puede deducir con esta infromacion que una persona que muestre una presion sanguinea igual a 0, es que no estaria viva."
   ]
  },
  {
   "cell_type": "code",
   "execution_count": 307,
   "id": "02feec33-8146-4966-b91e-9bad39e69d46",
   "metadata": {},
   "outputs": [
    {
     "name": "stdout",
     "output_type": "stream",
     "text": [
      "69.09647979139504\n"
     ]
    }
   ],
   "source": [
    "mediaPresion = df_diagnostics_t.BloodPressure.mean()\n",
    "print(mediaPresion)"
   ]
  },
  {
   "cell_type": "code",
   "execution_count": 308,
   "id": "56c579ae-d25e-4a2d-b4c2-74b2ca33233b",
   "metadata": {},
   "outputs": [
    {
     "name": "stdout",
     "output_type": "stream",
     "text": [
      "Empty DataFrame\n",
      "Columns: [Hair color, Pregnancies, Glucose, BloodPressure, SkinThickness, Insulin, BMI, DiabetesPedigreeFunction, Age, Outcome]\n",
      "Index: []\n"
     ]
    }
   ],
   "source": [
    "df_diagnostics_t.BloodPressure = df_diagnostics_t.BloodPressure.replace({0:mediaPresion})\n",
    "#comprobamos que no existan valores con presion igual a 0\n",
    "print(df_diagnostics_t[df_diagnostics_t['BloodPressure']==0])"
   ]
  },
  {
   "cell_type": "markdown",
   "id": "7866c63d-78fa-448d-92dc-c48cee15adc8",
   "metadata": {},
   "source": [
    "Ahora tambien el diccionario nos afirma que la glucosa debe tener valores mayores a 0, entonces comprobamos si cumple con esta condición."
   ]
  },
  {
   "cell_type": "code",
   "execution_count": 309,
   "id": "b07bf8c5-e621-4df6-b9b7-11a1dc0f24f1",
   "metadata": {},
   "outputs": [
    {
     "data": {
      "text/plain": [
       "<bound method Series.count of 0      148\n",
       "1       85\n",
       "2      183\n",
       "3       89\n",
       "4      137\n",
       "      ... \n",
       "763    101\n",
       "764    122\n",
       "765    121\n",
       "766    126\n",
       "767     93\n",
       "Name: Glucose, Length: 767, dtype: int64>"
      ]
     },
     "execution_count": 309,
     "metadata": {},
     "output_type": "execute_result"
    }
   ],
   "source": [
    "df_diagnostics_t.Glucose.count"
   ]
  },
  {
   "cell_type": "markdown",
   "id": "6a6a153f-d493-409d-87ce-7f1263aaf3fc",
   "metadata": {},
   "source": [
    "Podemos observar que existen 148 registros con el valor de glucosa igual a 0, entonces al tener esta cantidad considerable de registros no podemos prescindir de ellos. por tal motivo decidimos conservarlos y cambiar este valor por la media de la columna de glucosa."
   ]
  },
  {
   "cell_type": "code",
   "execution_count": 310,
   "id": "25a373e7-b89b-43df-97c0-1e6eec64fe45",
   "metadata": {},
   "outputs": [
    {
     "name": "stdout",
     "output_type": "stream",
     "text": [
      "120.92177314211213\n"
     ]
    }
   ],
   "source": [
    "mediaGlucosa = df_diagnostics_t.Glucose.mean()\n",
    "print(mediaGlucosa)"
   ]
  },
  {
   "cell_type": "code",
   "execution_count": 311,
   "id": "b9ff3571-3784-4b93-ab63-458c27a51b3c",
   "metadata": {},
   "outputs": [
    {
     "name": "stdout",
     "output_type": "stream",
     "text": [
      "Empty DataFrame\n",
      "Columns: [Hair color, Pregnancies, Glucose, BloodPressure, SkinThickness, Insulin, BMI, DiabetesPedigreeFunction, Age, Outcome]\n",
      "Index: []\n"
     ]
    }
   ],
   "source": [
    "df_diagnostics_t.Glucose = df_diagnostics_t.Glucose.replace({0:mediaGlucosa})\n",
    "#comprobamos que no existan valores con glucosa igual a 0\n",
    "print(df_diagnostics_t[df_diagnostics_t['Glucose']==0])"
   ]
  },
  {
   "cell_type": "code",
   "execution_count": 312,
   "id": "c575b7ae-a989-45c6-a2bb-b173afbd48b1",
   "metadata": {},
   "outputs": [
    {
     "data": {
      "text/html": [
       "<div>\n",
       "<style scoped>\n",
       "    .dataframe tbody tr th:only-of-type {\n",
       "        vertical-align: middle;\n",
       "    }\n",
       "\n",
       "    .dataframe tbody tr th {\n",
       "        vertical-align: top;\n",
       "    }\n",
       "\n",
       "    .dataframe thead th {\n",
       "        text-align: right;\n",
       "    }\n",
       "</style>\n",
       "<table border=\"1\" class=\"dataframe\">\n",
       "  <thead>\n",
       "    <tr style=\"text-align: right;\">\n",
       "      <th></th>\n",
       "      <th>Hair color</th>\n",
       "      <th>Pregnancies</th>\n",
       "      <th>Glucose</th>\n",
       "      <th>BloodPressure</th>\n",
       "      <th>SkinThickness</th>\n",
       "      <th>Insulin</th>\n",
       "      <th>BMI</th>\n",
       "      <th>DiabetesPedigreeFunction</th>\n",
       "      <th>Age</th>\n",
       "      <th>Outcome</th>\n",
       "    </tr>\n",
       "  </thead>\n",
       "  <tbody>\n",
       "    <tr>\n",
       "      <th>count</th>\n",
       "      <td>767.000000</td>\n",
       "      <td>767.000000</td>\n",
       "      <td>767.000000</td>\n",
       "      <td>767.000000</td>\n",
       "      <td>767.000000</td>\n",
       "      <td>767.000000</td>\n",
       "      <td>767.000000</td>\n",
       "      <td>767.000000</td>\n",
       "      <td>767.000000</td>\n",
       "      <td>767.000000</td>\n",
       "    </tr>\n",
       "    <tr>\n",
       "      <th>mean</th>\n",
       "      <td>0.148631</td>\n",
       "      <td>3.839635</td>\n",
       "      <td>121.710051</td>\n",
       "      <td>72.249513</td>\n",
       "      <td>20.563233</td>\n",
       "      <td>79.903520</td>\n",
       "      <td>289.670143</td>\n",
       "      <td>432.395046</td>\n",
       "      <td>38.006519</td>\n",
       "      <td>0.349413</td>\n",
       "    </tr>\n",
       "    <tr>\n",
       "      <th>std</th>\n",
       "      <td>0.458537</td>\n",
       "      <td>3.368429</td>\n",
       "      <td>30.445781</td>\n",
       "      <td>12.123188</td>\n",
       "      <td>15.945349</td>\n",
       "      <td>115.283105</td>\n",
       "      <td>116.780873</td>\n",
       "      <td>336.144934</td>\n",
       "      <td>117.902397</td>\n",
       "      <td>0.477096</td>\n",
       "    </tr>\n",
       "    <tr>\n",
       "      <th>min</th>\n",
       "      <td>0.000000</td>\n",
       "      <td>0.000000</td>\n",
       "      <td>44.000000</td>\n",
       "      <td>24.000000</td>\n",
       "      <td>0.000000</td>\n",
       "      <td>0.000000</td>\n",
       "      <td>0.000000</td>\n",
       "      <td>1.000000</td>\n",
       "      <td>21.000000</td>\n",
       "      <td>0.000000</td>\n",
       "    </tr>\n",
       "    <tr>\n",
       "      <th>25%</th>\n",
       "      <td>0.000000</td>\n",
       "      <td>1.000000</td>\n",
       "      <td>99.500000</td>\n",
       "      <td>64.000000</td>\n",
       "      <td>0.000000</td>\n",
       "      <td>0.000000</td>\n",
       "      <td>251.500000</td>\n",
       "      <td>205.500000</td>\n",
       "      <td>24.000000</td>\n",
       "      <td>0.000000</td>\n",
       "    </tr>\n",
       "    <tr>\n",
       "      <th>50%</th>\n",
       "      <td>0.000000</td>\n",
       "      <td>3.000000</td>\n",
       "      <td>117.000000</td>\n",
       "      <td>72.000000</td>\n",
       "      <td>23.000000</td>\n",
       "      <td>32.000000</td>\n",
       "      <td>309.000000</td>\n",
       "      <td>337.000000</td>\n",
       "      <td>29.000000</td>\n",
       "      <td>0.000000</td>\n",
       "    </tr>\n",
       "    <tr>\n",
       "      <th>75%</th>\n",
       "      <td>0.000000</td>\n",
       "      <td>6.000000</td>\n",
       "      <td>140.500000</td>\n",
       "      <td>80.000000</td>\n",
       "      <td>32.000000</td>\n",
       "      <td>127.500000</td>\n",
       "      <td>359.000000</td>\n",
       "      <td>592.000000</td>\n",
       "      <td>41.000000</td>\n",
       "      <td>1.000000</td>\n",
       "    </tr>\n",
       "    <tr>\n",
       "      <th>max</th>\n",
       "      <td>2.000000</td>\n",
       "      <td>17.000000</td>\n",
       "      <td>199.000000</td>\n",
       "      <td>122.000000</td>\n",
       "      <td>99.000000</td>\n",
       "      <td>846.000000</td>\n",
       "      <td>671.000000</td>\n",
       "      <td>2329.000000</td>\n",
       "      <td>3256.000000</td>\n",
       "      <td>1.000000</td>\n",
       "    </tr>\n",
       "  </tbody>\n",
       "</table>\n",
       "</div>"
      ],
      "text/plain": [
       "       Hair color  Pregnancies     Glucose  BloodPressure  SkinThickness  \\\n",
       "count  767.000000   767.000000  767.000000     767.000000     767.000000   \n",
       "mean     0.148631     3.839635  121.710051      72.249513      20.563233   \n",
       "std      0.458537     3.368429   30.445781      12.123188      15.945349   \n",
       "min      0.000000     0.000000   44.000000      24.000000       0.000000   \n",
       "25%      0.000000     1.000000   99.500000      64.000000       0.000000   \n",
       "50%      0.000000     3.000000  117.000000      72.000000      23.000000   \n",
       "75%      0.000000     6.000000  140.500000      80.000000      32.000000   \n",
       "max      2.000000    17.000000  199.000000     122.000000      99.000000   \n",
       "\n",
       "          Insulin         BMI  DiabetesPedigreeFunction          Age  \\\n",
       "count  767.000000  767.000000                767.000000   767.000000   \n",
       "mean    79.903520  289.670143                432.395046    38.006519   \n",
       "std    115.283105  116.780873                336.144934   117.902397   \n",
       "min      0.000000    0.000000                  1.000000    21.000000   \n",
       "25%      0.000000  251.500000                205.500000    24.000000   \n",
       "50%     32.000000  309.000000                337.000000    29.000000   \n",
       "75%    127.500000  359.000000                592.000000    41.000000   \n",
       "max    846.000000  671.000000               2329.000000  3256.000000   \n",
       "\n",
       "          Outcome  \n",
       "count  767.000000  \n",
       "mean     0.349413  \n",
       "std      0.477096  \n",
       "min      0.000000  \n",
       "25%      0.000000  \n",
       "50%      0.000000  \n",
       "75%      1.000000  \n",
       "max      1.000000  "
      ]
     },
     "execution_count": 312,
     "metadata": {},
     "output_type": "execute_result"
    }
   ],
   "source": [
    "#resumen de los datos\n",
    "df_diagnostics_t.describe()"
   ]
  },
  {
   "cell_type": "markdown",
   "id": "0458d650-3134-498d-8e4f-9fbb0e816502",
   "metadata": {},
   "source": [
    "A continuación se realizará sera una grafica para visualizar la correlacion que existe entre los datos."
   ]
  },
  {
   "cell_type": "code",
   "execution_count": 313,
   "id": "ea25c984-f5e5-417e-84e9-1fbe36410259",
   "metadata": {},
   "outputs": [
    {
     "name": "stdout",
     "output_type": "stream",
     "text": [
      "                          Hair color  Pregnancies   Glucose  BloodPressure  \\\n",
      "Hair color                  1.000000     0.028130 -0.054355      -0.022066   \n",
      "Pregnancies                 0.028130     1.000000  0.129280       0.208707   \n",
      "Glucose                    -0.054355     0.129280  1.000000       0.220040   \n",
      "BloodPressure              -0.022066     0.208707  0.220040       1.000000   \n",
      "SkinThickness               0.062277    -0.079765  0.073845       0.021508   \n",
      "Insulin                     0.030994    -0.072515  0.330755      -0.037858   \n",
      "BMI                         0.044020    -0.007944  0.169594       0.175498   \n",
      "DiabetesPedigreeFunction   -0.023682    -0.024954  0.135641       0.010394   \n",
      "Age                        -0.011754     0.020064 -0.006168       0.002627   \n",
      "Outcome                    -0.028842     0.223376  0.492564       0.163340   \n",
      "\n",
      "                          SkinThickness   Insulin       BMI  \\\n",
      "Hair color                     0.062277  0.030994  0.044020   \n",
      "Pregnancies                   -0.079765 -0.072515 -0.007944   \n",
      "Glucose                        0.073845  0.330755  0.169594   \n",
      "BloodPressure                  0.021508 -0.037858  0.175498   \n",
      "SkinThickness                  1.000000  0.436227  0.264798   \n",
      "Insulin                        0.436227  1.000000  0.176995   \n",
      "BMI                            0.264798  0.176995  1.000000   \n",
      "DiabetesPedigreeFunction       0.156477  0.185471  0.042408   \n",
      "Age                           -0.002929 -0.005230  0.012593   \n",
      "Outcome                        0.073628  0.129973  0.147391   \n",
      "\n",
      "                          DiabetesPedigreeFunction       Age   Outcome  \n",
      "Hair color                               -0.023682 -0.011754 -0.028842  \n",
      "Pregnancies                              -0.024954  0.020064  0.223376  \n",
      "Glucose                                   0.135641 -0.006168  0.492564  \n",
      "BloodPressure                             0.010394  0.002627  0.163340  \n",
      "SkinThickness                             0.156477 -0.002929  0.073628  \n",
      "Insulin                                   0.185471 -0.005230  0.129973  \n",
      "BMI                                       0.042408  0.012593  0.147391  \n",
      "DiabetesPedigreeFunction                  1.000000 -0.016644  0.178680  \n",
      "Age                                      -0.016644  1.000000 -0.005843  \n",
      "Outcome                                   0.178680 -0.005843  1.000000  \n"
     ]
    }
   ],
   "source": [
    "correlat = df_diagnostics_t.corr()\n",
    "print(correlat)"
   ]
  },
  {
   "cell_type": "code",
   "execution_count": 314,
   "id": "62840999-4645-4184-98e9-dacb9733bd54",
   "metadata": {},
   "outputs": [
    {
     "data": {
      "text/plain": [
       "<AxesSubplot:>"
      ]
     },
     "execution_count": 314,
     "metadata": {},
     "output_type": "execute_result"
    },
    {
     "data": {
      "image/png": "[encoded data removed]",
      "text/plain": [
       "<Figure size 432x288 with 2 Axes>"
      ]
     },
     "metadata": {
      "needs_background": "light"
     },
     "output_type": "display_data"
    }
   ],
   "source": [
    "#grafica de correlación\n",
    "sns.heatmap(correlat)"
   ]
  },
  {
   "cell_type": "markdown",
   "id": "9d74118b-2b37-404b-969f-5d099017bfb2",
   "metadata": {},
   "source": [
    "Se puede apreciar los atributos que tienen correalción con la variable de la etiqueta. Entre más brillante mayor sera la correlacion, en este caso vemos que las variables de **Age** y **Hair color** no tiene ninguna correlacion con la variable de **Outcome** o con el diagnóstico de diabetes. Por tal motivo podemos prescindir de ellas. "
   ]
  },
  {
   "cell_type": "code",
   "execution_count": 315,
   "id": "b21d5dc3-82fd-48ff-a278-cd6cdf2973cf",
   "metadata": {},
   "outputs": [
    {
     "name": "stdout",
     "output_type": "stream",
     "text": [
      "<class 'pandas.core.frame.DataFrame'>\n",
      "Int64Index: 767 entries, 0 to 767\n",
      "Data columns (total 8 columns):\n",
      " #   Column                    Non-Null Count  Dtype  \n",
      "---  ------                    --------------  -----  \n",
      " 0   Pregnancies               767 non-null    int64  \n",
      " 1   Glucose                   767 non-null    float64\n",
      " 2   BloodPressure             767 non-null    float64\n",
      " 3   SkinThickness             767 non-null    int64  \n",
      " 4   Insulin                   767 non-null    int64  \n",
      " 5   BMI                       767 non-null    int64  \n",
      " 6   DiabetesPedigreeFunction  767 non-null    int64  \n",
      " 7   Outcome                   767 non-null    int64  \n",
      "dtypes: float64(2), int64(6)\n",
      "memory usage: 53.9 KB\n"
     ]
    }
   ],
   "source": [
    "# Eliminamos las columnas de Hair Color y Age\n",
    "del df_diagnostics_t['Hair color']\n",
    "del df_diagnostics_t['Age']\n",
    "\n",
    "#Comprobamos el estado del df\n",
    "df_diagnostics_t.info()"
   ]
  },
  {
   "cell_type": "code",
   "execution_count": 316,
   "id": "675882ad-a4ba-4be7-a1bb-0e29044095c7",
   "metadata": {},
   "outputs": [
    {
     "data": {
      "text/plain": [
       "0    499\n",
       "1    268\n",
       "Name: Outcome, dtype: int64"
      ]
     },
     "execution_count": 316,
     "metadata": {},
     "output_type": "execute_result"
    }
   ],
   "source": [
    "#cantidad de datos de cada clase\n",
    "pd.value_counts(df_diagnostics_t['Outcome'])"
   ]
  },
  {
   "cell_type": "code",
   "execution_count": 317,
   "id": "4923e77e-4cd0-447c-91e6-a7d0927dcf1f",
   "metadata": {},
   "outputs": [
    {
     "data": {
      "image/png": "[encoded data removed]",
      "text/plain": [
       "<Figure size 432x288 with 1 Axes>"
      ]
     },
     "metadata": {
      "needs_background": "light"
     },
     "output_type": "display_data"
    }
   ],
   "source": [
    "ax = sns.countplot(x='Outcome', data = df_diagnostics_t)"
   ]
  },
  {
   "cell_type": "code",
   "execution_count": 318,
   "id": "389f2153-48c5-4b9d-b33b-f795d9d523a2",
   "metadata": {},
   "outputs": [
    {
     "data": {
      "text/plain": [
       "(767, 8)"
      ]
     },
     "execution_count": 318,
     "metadata": {},
     "output_type": "execute_result"
    }
   ],
   "source": [
    "# Revisión del total de registros\n",
    "df_diagnostics_t.shape"
   ]
  },
  {
   "cell_type": "markdown",
   "id": "cb799408-0e6e-44c0-bf00-d4af94c091d4",
   "metadata": {},
   "source": [
    "## 3. Clasificadores."
   ]
  },
  {
   "cell_type": "markdown",
   "id": "8ed7cd00-9202-4a10-b44f-e5c427a06bed",
   "metadata": {},
   "source": [
    "### 3.1.1. Arbol de decisión.\n"
   ]
  },
  {
   "cell_type": "code",
   "execution_count": 319,
   "id": "0b1934f4-71f0-49ac-9408-0c4bbf2e632b",
   "metadata": {},
   "outputs": [],
   "source": [
    "# Seleccionamos la variable objetivo - 'Outcome'\n",
    "Y = df_diagnostics_t['Outcome']\n",
    "# Eliminamos la variable 'Outcome' del conjunto de datos\n",
    "X = df_diagnostics_t.drop(['Outcome'], axis=1)"
   ]
  },
  {
   "cell_type": "code",
   "execution_count": 320,
   "id": "ec65dd60-5e84-449a-93c4-14430644ff44",
   "metadata": {},
   "outputs": [],
   "source": [
    "# Dividir los datos en entrenamiento y test\n",
    "X_train, X_test, Y_train, Y_test = train_test_split(X, Y, test_size=0.4, random_state=0)"
   ]
  },
  {
   "cell_type": "code",
   "execution_count": 321,
   "id": "46004387-3580-45b9-8723-32c63c7adf9a",
   "metadata": {},
   "outputs": [],
   "source": [
    "# Crear arbol de decisión. El criterio de pureza sera la entropía\n",
    "arbol = DecisionTreeClassifier(criterion='entropy', random_state=0)"
   ]
  },
  {
   "cell_type": "code",
   "execution_count": 322,
   "id": "9e25ca77-5c89-4c9e-bd18-de20ebeabc81",
   "metadata": {},
   "outputs": [],
   "source": [
    "# Entrenar arbol de decisión con los datos de entrenamiento\n",
    "arbol = arbol.fit( X_train, Y_train)"
   ]
  },
  {
   "cell_type": "markdown",
   "id": "53d797c8-24b8-4e33-8925-03bf4d4c4cc3",
   "metadata": {},
   "source": [
    "### 3.1.2. Métricas de rendimiento."
   ]
  },
  {
   "cell_type": "markdown",
   "id": "6c65936d-e10e-4dfc-a697-aece0669c6e8",
   "metadata": {},
   "source": [
    "Ahora determinaremos el rendimiento del modelo del arbol de decisión."
   ]
  },
  {
   "cell_type": "code",
   "execution_count": 323,
   "id": "2cc200d2-63fe-40bf-9f72-9f896c212647",
   "metadata": {},
   "outputs": [],
   "source": [
    "# Determinamos las predicciones del modelo sobre el conjunto test\n",
    "y_pred = arbol.predict(X_test)"
   ]
  },
  {
   "cell_type": "code",
   "execution_count": 324,
   "id": "fe3e5fcc-c665-4ed0-be71-d7cd7888c3aa",
   "metadata": {},
   "outputs": [
    {
     "data": {
      "text/plain": [
       "array([[160,  47],\n",
       "       [ 40,  60]])"
      ]
     },
     "execution_count": 324,
     "metadata": {},
     "output_type": "execute_result"
    }
   ],
   "source": [
    "# Generamos la matriz de confusión\n",
    "confusion_matrix(Y_test, y_pred)"
   ]
  },
  {
   "cell_type": "code",
   "execution_count": 325,
   "id": "16872730-47fe-497d-b6e8-98081f21b97d",
   "metadata": {},
   "outputs": [
    {
     "data": {
      "image/png": "[encoded data removed]",
      "text/plain": [
       "<Figure size 432x288 with 2 Axes>"
      ]
     },
     "metadata": {
      "needs_background": "light"
     },
     "output_type": "display_data"
    }
   ],
   "source": [
    "# grafica de la matriz de confusión\n",
    "plot_confusion_matrix(arbol, X_test, Y_test)\n",
    "plt.show()"
   ]
  },
  {
   "cell_type": "code",
   "execution_count": 329,
   "id": "49e44219-bb15-49d4-950e-ccccb54d3d3b",
   "metadata": {},
   "outputs": [
    {
     "name": "stdout",
     "output_type": "stream",
     "text": [
      "Exactitud: 0.72\n",
      "Recall: 0.6\n",
      "Precisión: 0.5607476635514018\n",
      "Puntuación F1: 0.5797101449275363\n"
     ]
    }
   ],
   "source": [
    "# Metricas de rendimiento\n",
    "print('Exactitud: %.2f' % accuracy_score(Y_test, y_pred))\n",
    "print(\"Recall: {}\".format(recall_score(Y_test,y_pred)))\n",
    "print(\"Precisión: {}\".format(precision_score(Y_test,y_pred)))\n",
    "print(\"Puntuación F1: {}\".format(f1_score(Y_test,y_pred)))"
   ]
  },
  {
   "cell_type": "code",
   "execution_count": 330,
   "id": "1eb06469-b1b0-4dca-84d1-0e6e79c7b26b",
   "metadata": {},
   "outputs": [
    {
     "name": "stdout",
     "output_type": "stream",
     "text": [
      "              precision    recall  f1-score   support\n",
      "\n",
      "           0       0.80      0.77      0.79       207\n",
      "           1       0.56      0.60      0.58       100\n",
      "\n",
      "    accuracy                           0.72       307\n",
      "   macro avg       0.68      0.69      0.68       307\n",
      "weighted avg       0.72      0.72      0.72       307\n",
      "\n"
     ]
    }
   ],
   "source": [
    "# reporte de clasificación\n",
    "print(classification_report(Y_test, y_pred))"
   ]
  },
  {
   "cell_type": "markdown",
   "id": "937a3fec-9a4f-4de0-9972-d86538903b5b",
   "metadata": {},
   "source": [
    "### 3.1.3. Interpretación del modelo."
   ]
  },
  {
   "cell_type": "code",
   "execution_count": 331,
   "id": "3d0b8b68-6724-4681-ad45-41a8f0bd0966",
   "metadata": {},
   "outputs": [
    {
     "data": {
      "text/plain": [
       "array([0.12811827, 0.2707001 , 0.04853355, 0.11298275, 0.07324927,\n",
       "       0.1824081 , 0.18400796])"
      ]
     },
     "execution_count": 331,
     "metadata": {},
     "output_type": "execute_result"
    }
   ],
   "source": [
    "# importancia de las variables, muestra el peso para cada atributo, entre mayor sea este más importante sera para la variable asociada.\n",
    "importancia = arbol.feature_importances_\n",
    "importancia"
   ]
  },
  {
   "cell_type": "code",
   "execution_count": 332,
   "id": "ab73b136-f451-4af2-a274-10c62ffa172e",
   "metadata": {},
   "outputs": [
    {
     "data": {
      "text/html": [
       "<div>\n",
       "<style scoped>\n",
       "    .dataframe tbody tr th:only-of-type {\n",
       "        vertical-align: middle;\n",
       "    }\n",
       "\n",
       "    .dataframe tbody tr th {\n",
       "        vertical-align: top;\n",
       "    }\n",
       "\n",
       "    .dataframe thead th {\n",
       "        text-align: right;\n",
       "    }\n",
       "</style>\n",
       "<table border=\"1\" class=\"dataframe\">\n",
       "  <thead>\n",
       "    <tr style=\"text-align: right;\">\n",
       "      <th></th>\n",
       "      <th>Atributo</th>\n",
       "      <th>Importancia</th>\n",
       "    </tr>\n",
       "  </thead>\n",
       "  <tbody>\n",
       "    <tr>\n",
       "      <th>0</th>\n",
       "      <td>Glucose</td>\n",
       "      <td>0.270700</td>\n",
       "    </tr>\n",
       "    <tr>\n",
       "      <th>1</th>\n",
       "      <td>DiabetesPedigreeFunction</td>\n",
       "      <td>0.184008</td>\n",
       "    </tr>\n",
       "    <tr>\n",
       "      <th>2</th>\n",
       "      <td>BMI</td>\n",
       "      <td>0.182408</td>\n",
       "    </tr>\n",
       "    <tr>\n",
       "      <th>3</th>\n",
       "      <td>Pregnancies</td>\n",
       "      <td>0.128118</td>\n",
       "    </tr>\n",
       "    <tr>\n",
       "      <th>4</th>\n",
       "      <td>SkinThickness</td>\n",
       "      <td>0.112983</td>\n",
       "    </tr>\n",
       "    <tr>\n",
       "      <th>5</th>\n",
       "      <td>Insulin</td>\n",
       "      <td>0.073249</td>\n",
       "    </tr>\n",
       "    <tr>\n",
       "      <th>6</th>\n",
       "      <td>BloodPressure</td>\n",
       "      <td>0.048534</td>\n",
       "    </tr>\n",
       "  </tbody>\n",
       "</table>\n",
       "</div>"
      ],
      "text/plain": [
       "                   Atributo  Importancia\n",
       "0                   Glucose     0.270700\n",
       "1  DiabetesPedigreeFunction     0.184008\n",
       "2                       BMI     0.182408\n",
       "3               Pregnancies     0.128118\n",
       "4             SkinThickness     0.112983\n",
       "5                   Insulin     0.073249\n",
       "6             BloodPressure     0.048534"
      ]
     },
     "execution_count": 332,
     "metadata": {},
     "output_type": "execute_result"
    }
   ],
   "source": [
    "import_atributo = pd.DataFrame( data={ \"Atributo\": X_train.columns,\"Importancia\": importancia } )\n",
    "import_atributo = import_atributo.sort_values(by='Importancia',ascending=False).reset_index(drop=True)\n",
    "import_atributo"
   ]
  },
  {
   "cell_type": "markdown",
   "id": "93aa1bea-6f09-4b86-8151-e678e0ef5bb0",
   "metadata": {},
   "source": [
    "Podemos observar que el atributo con mayor importancia es la **Glucose**, que era de esperarse por nuestra tabla de correlaciones."
   ]
  },
  {
   "cell_type": "code",
   "execution_count": 333,
   "id": "1d665a32-f82b-4ba8-ae87-0ffe7d6f6481",
   "metadata": {},
   "outputs": [
    {
     "data": {
      "image/png": "[encoded data removed]",
      "text/plain": [
       "<Figure size 1800x720 with 1 Axes>"
      ]
     },
     "metadata": {
      "needs_background": "light"
     },
     "output_type": "display_data"
    }
   ],
   "source": [
    "fig = plt.figure( figsize=(25,10))\n",
    "_ = tree.plot_tree(arbol, max_depth=3, feature_names=X.columns, class_names=[\"0\",\"1\"], filled=True, fontsize=10)"
   ]
  },
  {
   "cell_type": "markdown",
   "id": "8c1ac437-bb3c-4a88-b914-22b1306a333b",
   "metadata": {},
   "source": [
    "### 3.2.1. KNN."
   ]
  },
  {
   "cell_type": "code",
   "execution_count": 335,
   "id": "acd62ed9-4064-4646-af24-a22d89456253",
   "metadata": {},
   "outputs": [],
   "source": [
    "# Se selecciona la variable objetivo, en este caso \"Popularity_label\".\n",
    "Y = df_diagnostics_t['Outcome']\n",
    "# Del conjunto de datos se elimina la variable \"Popularity_label\"\n",
    "X = df_diagnostics_t.drop(['Outcome'], axis=1)"
   ]
  },
  {
   "cell_type": "code",
   "execution_count": 336,
   "id": "6d125d7d-3529-45ba-a506-946f66a4a07c",
   "metadata": {},
   "outputs": [],
   "source": [
    "# Dividir los datos en entrenamiento y test\n",
    "X_train, X_test, Y_train, Y_test = train_test_split(X, Y, test_size=0.2, random_state=0)"
   ]
  },
  {
   "cell_type": "code",
   "execution_count": 339,
   "id": "685e7387-a8e0-4674-a572-8676ad1df482",
   "metadata": {},
   "outputs": [],
   "source": [
    " neigh = KNeighborsClassifier(n_neighbors=3)\n",
    " neigh = neigh.fit(X_train, Y_train)"
   ]
  },
  {
   "cell_type": "code",
   "execution_count": 340,
   "id": "ef86edf5-71e3-482c-af7e-b3c9d0b3f94a",
   "metadata": {},
   "outputs": [],
   "source": [
    " y_pred = neigh.predict(X_test)"
   ]
  },
  {
   "cell_type": "markdown",
   "id": "254372ce-9317-45ea-8e23-4a75bc3b2615",
   "metadata": {},
   "source": [
    "### 3.2.2. Métricas de rendimiento."
   ]
  },
  {
   "cell_type": "code",
   "execution_count": 341,
   "id": "d8583124-d974-42bd-b27d-f2c50fb5cd7c",
   "metadata": {},
   "outputs": [
    {
     "data": {
      "text/plain": [
       "array([[82, 26],\n",
       "       [25, 21]])"
      ]
     },
     "execution_count": 341,
     "metadata": {},
     "output_type": "execute_result"
    }
   ],
   "source": [
    "# Se genera la matriz de confusión\n",
    "confusion_matrix(Y_test, y_pred)"
   ]
  },
  {
   "cell_type": "code",
   "execution_count": 342,
   "id": "5a83b213-a00b-41bb-add7-7d945f0e80f7",
   "metadata": {},
   "outputs": [
    {
     "data": {
      "image/png": "[encoded data removed]",
      "text/plain": [
       "<Figure size 432x288 with 2 Axes>"
      ]
     },
     "metadata": {
      "needs_background": "light"
     },
     "output_type": "display_data"
    }
   ],
   "source": [
    "# Se puede visualizar la matriz de confusión\n",
    "plot_confusion_matrix(neigh, X_test, Y_test)  \n",
    "plt.show()"
   ]
  },
  {
   "cell_type": "code",
   "execution_count": 343,
   "id": "1bc09f7f-95dd-497e-9658-4c544f60cb85",
   "metadata": {},
   "outputs": [
    {
     "name": "stdout",
     "output_type": "stream",
     "text": [
      "              precision    recall  f1-score   support\n",
      "\n",
      "           0       0.77      0.76      0.76       108\n",
      "           1       0.45      0.46      0.45        46\n",
      "\n",
      "    accuracy                           0.67       154\n",
      "   macro avg       0.61      0.61      0.61       154\n",
      "weighted avg       0.67      0.67      0.67       154\n",
      "\n"
     ]
    }
   ],
   "source": [
    "# Mostrar reporte de clasificación\n",
    "print(classification_report(Y_test, y_pred))"
   ]
  },
  {
   "cell_type": "code",
   "execution_count": 344,
   "id": "15e5f8d1-6759-4d2b-b44a-cbc619129720",
   "metadata": {},
   "outputs": [
    {
     "name": "stdout",
     "output_type": "stream",
     "text": [
      "Exactitud: 0.67\n",
      "Recall: 0.45652173913043476\n",
      "Precisión: 0.44680851063829785\n",
      "Puntuación F1: 0.45161290322580644\n"
     ]
    }
   ],
   "source": [
    "print('Exactitud: %.2f' % accuracy_score(Y_test, y_pred))\n",
    "print(\"Recall: {}\".format(recall_score(Y_test,y_pred)))\n",
    "print(\"Precisión: {}\".format(precision_score(Y_test,y_pred)))\n",
    "print(\"Puntuación F1: {}\".format(f1_score(Y_test,y_pred)))"
   ]
  },
  {
   "cell_type": "code",
   "execution_count": 345,
   "id": "7a1fab63-6424-4c0d-8b9d-2a6d295ac770",
   "metadata": {},
   "outputs": [
    {
     "name": "stdout",
     "output_type": "stream",
     "text": [
      "Exactitud: 0.67\n",
      "Recall: 0.45652173913043476\n",
      "Precisión: 0.44680851063829785\n",
      "Puntuación F1: 0.45161290322580644\n"
     ]
    }
   ],
   "source": [
    "X_train, X_test, Y_train, Y_test = train_test_split(X, Y, test_size=0.2, random_state=0)\n",
    "neigh = KNeighborsClassifier(n_neighbors=3) # arbol = DecisionTreeClassifier(criterion='entropy', random_state=0)\n",
    "neigh = neigh.fit(X_train, Y_train) # arbol = arbol.fit(X_train,Y_train)\n",
    "y_pred = neigh.predict(X_test) # y_pred = arbol.predict(X_test)\n",
    "print('Exactitud: %.2f' % accuracy_score(Y_test, y_pred))\n",
    "print(\"Recall: {}\".format(recall_score(Y_test,y_pred)))\n",
    "print(\"Precisión: {}\".format(precision_score(Y_test,y_pred)))\n",
    "print(\"Puntuación F1: {}\".format(f1_score(Y_test,y_pred)))"
   ]
  },
  {
   "cell_type": "code",
   "execution_count": 346,
   "id": "0c817e72-8e0a-454b-a147-82d8d39d8229",
   "metadata": {},
   "outputs": [
    {
     "name": "stdout",
     "output_type": "stream",
     "text": [
      "Exactitud: 0.84\n",
      "Recall: 0.7207207207207207\n",
      "Precisión: 0.8163265306122449\n",
      "Puntuación F1: 0.7655502392344496\n"
     ]
    }
   ],
   "source": [
    "# Calculemos también las métricas de rendimiento sobre el conjunto de entrenamiento.\n",
    "y_pred = neigh.predict(X_train) # y_pred = arbol.predict(X_train)\n",
    "print('Exactitud: %.2f' % accuracy_score(Y_train, y_pred))\n",
    "print(\"Recall: {}\".format(recall_score(Y_train,y_pred)))\n",
    "print(\"Precisión: {}\".format(precision_score(Y_train,y_pred)))\n",
    "print(\"Puntuación F1: {}\".format(f1_score(Y_train,y_pred)))"
   ]
  },
  {
   "cell_type": "code",
   "execution_count": 365,
   "id": "c3445f87-b794-4308-ac83-ba9b4cfd7147",
   "metadata": {},
   "outputs": [
    {
     "name": "stdout",
     "output_type": "stream",
     "text": [
      "              precision    recall  f1-score   support\n",
      "\n",
      "         0.0       0.85      0.92      0.88       391\n",
      "         1.0       0.83      0.71      0.76       222\n",
      "\n",
      "    accuracy                           0.84       613\n",
      "   macro avg       0.84      0.81      0.82       613\n",
      "weighted avg       0.84      0.84      0.84       613\n",
      "\n"
     ]
    }
   ],
   "source": [
    "# Mostrar reporte de clasificación\n",
    "print(classification_report(Y_train, y_pred))"
   ]
  },
  {
   "cell_type": "code",
   "execution_count": 364,
   "id": "14ea72ab-f065-471e-9908-fd597ce95185",
   "metadata": {},
   "outputs": [
    {
     "data": {
      "image/png": "[encoded data removed]",
      "text/plain": [
       "<Figure size 432x288 with 2 Axes>"
      ]
     },
     "metadata": {
      "needs_background": "light"
     },
     "output_type": "display_data"
    }
   ],
   "source": [
    "# Se puede visualizar la matriz de confusión\n",
    "plot_confusion_matrix(neigh, X_test, Y_test)  \n",
    "plt.show()"
   ]
  },
  {
   "cell_type": "code",
   "execution_count": null,
   "id": "ceec4f96-a493-40fa-8b91-1734aeef6668",
   "metadata": {},
   "outputs": [],
   "source": []
  }
 ],
 "metadata": {
  "kernelspec": {
   "display_name": "Python 3",
   "language": "python",
   "name": "python3"
  },
  "language_info": {
   "codemirror_mode": {
    "name": "ipython",
    "version": 3
   },
   "file_extension": ".py",
   "mimetype": "text/x-python",
   "name": "python",
   "nbconvert_exporter": "python",
   "pygments_lexer": "ipython3",
   "version": "3.8.8"
  }
 },
 "nbformat": 4,
 "nbformat_minor": 5
}
